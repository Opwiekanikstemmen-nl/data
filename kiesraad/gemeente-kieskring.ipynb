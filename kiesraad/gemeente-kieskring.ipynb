{
 "cells": [
  {
   "cell_type": "code",
   "execution_count": 6,
   "metadata": {
    "vscode": {
     "languageId": "shellscript"
    }
   },
   "outputs": [
    {
     "name": "stdout",
     "output_type": "stream",
     "text": [
      "Collecting requests\n",
      "  Obtaining dependency information for requests from https://files.pythonhosted.org/packages/70/8e/0e2d847013cb52cd35b38c009bb167a1a26b2ce6cd6965bf26b47bc0bf44/requests-2.31.0-py3-none-any.whl.metadata\n",
      "  Using cached requests-2.31.0-py3-none-any.whl.metadata (4.6 kB)\n",
      "Collecting beautifulsoup4\n",
      "  Downloading beautifulsoup4-4.12.2-py3-none-any.whl (142 kB)\n",
      "\u001b[2K     \u001b[90m━━━━━━━━━━━━━━━━━━━━━━━━━━━━━━━━━━━━━━━\u001b[0m \u001b[32m143.0/143.0 kB\u001b[0m \u001b[31m5.0 MB/s\u001b[0m eta \u001b[36m0:00:00\u001b[0m\n",
      "\u001b[?25hCollecting charset-normalizer<4,>=2 (from requests)\n",
      "  Obtaining dependency information for charset-normalizer<4,>=2 from https://files.pythonhosted.org/packages/49/48/b89a9ccc78ea7a2a0b37c20a912b98c840210f277747e2380ee8d72784cc/charset_normalizer-3.3.1-cp311-cp311-macosx_11_0_arm64.whl.metadata\n",
      "  Using cached charset_normalizer-3.3.1-cp311-cp311-macosx_11_0_arm64.whl.metadata (33 kB)\n",
      "Collecting idna<4,>=2.5 (from requests)\n",
      "  Using cached idna-3.4-py3-none-any.whl (61 kB)\n",
      "Collecting urllib3<3,>=1.21.1 (from requests)\n",
      "  Obtaining dependency information for urllib3<3,>=1.21.1 from https://files.pythonhosted.org/packages/d2/b2/b157855192a68541a91ba7b2bbcb91f1b4faa51f8bae38d8005c034be524/urllib3-2.0.7-py3-none-any.whl.metadata\n",
      "  Using cached urllib3-2.0.7-py3-none-any.whl.metadata (6.6 kB)\n",
      "Collecting certifi>=2017.4.17 (from requests)\n",
      "  Obtaining dependency information for certifi>=2017.4.17 from https://files.pythonhosted.org/packages/4c/dd/2234eab22353ffc7d94e8d13177aaa050113286e93e7b40eae01fbf7c3d9/certifi-2023.7.22-py3-none-any.whl.metadata\n",
      "  Using cached certifi-2023.7.22-py3-none-any.whl.metadata (2.2 kB)\n",
      "Collecting soupsieve>1.2 (from beautifulsoup4)\n",
      "  Obtaining dependency information for soupsieve>1.2 from https://files.pythonhosted.org/packages/4c/f3/038b302fdfbe3be7da016777069f26ceefe11a681055ea1f7817546508e3/soupsieve-2.5-py3-none-any.whl.metadata\n",
      "  Downloading soupsieve-2.5-py3-none-any.whl.metadata (4.7 kB)\n",
      "Using cached requests-2.31.0-py3-none-any.whl (62 kB)\n",
      "Using cached certifi-2023.7.22-py3-none-any.whl (158 kB)\n",
      "Using cached charset_normalizer-3.3.1-cp311-cp311-macosx_11_0_arm64.whl (116 kB)\n",
      "Downloading soupsieve-2.5-py3-none-any.whl (36 kB)\n",
      "Using cached urllib3-2.0.7-py3-none-any.whl (124 kB)\n",
      "Installing collected packages: urllib3, soupsieve, idna, charset-normalizer, certifi, requests, beautifulsoup4\n",
      "Successfully installed beautifulsoup4-4.12.2 certifi-2023.7.22 charset-normalizer-3.3.1 idna-3.4 requests-2.31.0 soupsieve-2.5 urllib3-2.0.7\n",
      "\n",
      "\u001b[1m[\u001b[0m\u001b[34;49mnotice\u001b[0m\u001b[1;39;49m]\u001b[0m\u001b[39;49m A new release of pip is available: \u001b[0m\u001b[31;49m23.2.1\u001b[0m\u001b[39;49m -> \u001b[0m\u001b[32;49m23.3.1\u001b[0m\n",
      "\u001b[1m[\u001b[0m\u001b[34;49mnotice\u001b[0m\u001b[1;39;49m]\u001b[0m\u001b[39;49m To update, run: \u001b[0m\u001b[32;49mpython3.11 -m pip install --upgrade pip\u001b[0m\n",
      "Note: you may need to restart the kernel to use updated packages.\n"
     ]
    }
   ],
   "source": [
    "pip install requests beautifulsoup4"
   ]
  },
  {
   "cell_type": "code",
   "execution_count": 20,
   "metadata": {},
   "outputs": [
    {
     "name": "stdout",
     "output_type": "stream",
     "text": [
      "['Groningen', 'Leeuwarden', 'Assen', 'Zwolle', 'Lelystad', 'Nijmegen', 'Arnhem', 'Utrecht', 'Amsterdam', 'Haarlem', 'Den Helder', \"'s-Gravenhage\", 'Rotterdam', 'Dordrecht', 'Leiden', 'Middelburg', 'Tilburg', '’s-Hertogenbosch', 'Maastricht', 'Bonaire']\n",
      "['De provincie Groningen.', 'De provincie Fryslân.', 'De provincie Drenthe.', 'De provincie Overijssel.', 'De provincie Flevoland.', 'De gemeenten Berg en Dal, Beuningen, Buren, Culemborg, Druten, Heumen, Maasdriel, Neder-Betuwe, Nijmegen, Tiel, West Betuwe, West Maas en Waal, Wijchen, Zaltbommel.', 'De gemeenten van de provincie Gelderland die niet toe kieskring 6 behoren.', 'De provincie Utrecht.', 'De gemeente Amsterdam.', 'De gemeenten Aalsmeer, Amstelveen, Beverwijk, Blaricum, Bloemendaal, Diemen, Gooise Meren, Haarlem, Haarlemmermeer, Heemskerk, Heemstede, Hilversum, Huizen, Laren, Ouder-Amstel, Uithoorn, Velsen,\\xa0Wijdemeren, Zandvoort.', 'De gemeenten van de provincie Noord-Holland die niet tot de kieskringen 9 of 10 behoren.', \"De gemeente 's-Gravenhage en het gebied buiten Nederland.\", 'De gemeente Rotterdam.', 'De gemeenten Alblasserdam, Albrandswaard, Barendrecht, Delft, Dordrecht, Goeree-Overflakkee, Gorinchem, Hardinxveld-Giessendam,\\xa0Hendrik-Ido-Ambacht, Hoeksche Waard, Maassluis, Midden-Delfland, Molenlanden, Nissewaard, Papendrecht, Ridderkerk, Rijswijk, Schiedam, Sliedrecht, Vlaardingen, Westland, Voorne aan Zee, Zwijndrecht.', 'De gemeenten van de provincie Zuid-Holland die niet tot de kieskringen 12, 13 of 14 behoren.', 'De provincie Zeeland.', 'De gemeenten Alphen-Chaam, Altena, Baarle-Nassau, Bergen op Zoom, Breda, Dongen, Drimmelen, Etten-Leur, Geertruidenberg, Gilze en Rijen, Goirle, Halderberge, Hilvarenbeek, Loon op Zand, Moerdijk, Oisterwijk, Oosterhout, Roosendaal, Rucphen, Steenbergen, Tilburg, Waalwijk, Woensdrecht, Zundert.', 'De gemeenten van de provincie Noord-Brabant die niet tot kieskring 17 behoren.', 'De provincie Limburg.', 'De openbare lichamen Bonaire, Sint Eustatius en Saba.']\n"
     ]
    }
   ],
   "source": [
    "import requests\n",
    "from bs4 import BeautifulSoup\n",
    "import json\n",
    "\n",
    "url = 'https://www.kiesraad.nl/adviezen-en-publicaties/formulieren/2016/5/kieskringen/kieskringen-en-hoofdstembureaus-tweede-kamerverkiezingen-en-europees-parlementsverkiezingen'\n",
    "response = requests.get(url)\n",
    "\n",
    "soup = BeautifulSoup(response.text, \"html.parser\")\n",
    "kieskring_data = soup.find('tbody').get_text().splitlines()\n",
    "\n",
    "kieskringen = kieskring_data[4::5]\n",
    "gemeenten_raw = kieskring_data[3::5]\n",
    "\n",
    "gemeenten = []\n",
    "dict = {}\n",
    "\n",
    "with open('../kadaster/cbs_gemeentes.json') as fs:\n",
    "    cbs = json.load(fs)\n",
    "\n",
    "gemeenten = {}\n",
    "\n",
    "print(kieskringen)\n",
    "print(gemeenten_raw)"
   ]
  },
  {
   "cell_type": "code",
   "execution_count": 44,
   "metadata": {},
   "outputs": [
    {
     "name": "stdout",
     "output_type": "stream",
     "text": [
      "{'Eemsdelta': 'Groningen', 'Groningen': 'Groningen', 'Het Hogeland': 'Groningen', 'Midden-Groningen': 'Groningen', 'Oldambt': 'Groningen', 'Pekela': 'Groningen', 'Stadskanaal': 'Groningen', 'Veendam': 'Groningen', 'Westerkwartier': 'Groningen', 'Westerwolde': 'Groningen', 'Achtkarspelen': 'Leeuwarden', 'Ameland': 'Leeuwarden', 'Dantumadiel': 'Leeuwarden', 'De Fryske Marren': 'Leeuwarden', 'Harlingen': 'Leeuwarden', 'Heerenveen': 'Leeuwarden', 'Leeuwarden': 'Leeuwarden', 'Noardeast-Fryslân': 'Leeuwarden', 'Ooststellingwerf': 'Leeuwarden', 'Opsterland': 'Leeuwarden', 'Schiermonnikoog': 'Leeuwarden', 'Smallingerland': 'Leeuwarden', 'Súdwest-Fryslân': 'Leeuwarden', 'Terschelling': 'Leeuwarden', 'Tytsjerksteradiel': 'Leeuwarden', 'Vlieland': 'Leeuwarden', 'Waadhoeke': 'Leeuwarden', 'Weststellingwerf': 'Leeuwarden', 'Aa en Hunze': 'Assen', 'Assen': 'Assen', 'Borger-Odoorn': 'Assen', 'Coevorden': 'Assen', 'Emmen': 'Assen', 'Hoogeveen': 'Assen', 'Meppel': 'Assen', 'Midden-Drenthe': 'Assen', 'Noordenveld': 'Assen', 'Tynaarlo': 'Assen', 'Westerveld': 'Assen', 'De Wolden': 'Assen', 'Almelo': 'Zwolle', 'Borne': 'Zwolle', 'Dalfsen': 'Zwolle', 'Deventer': 'Zwolle', 'Dinkelland': 'Zwolle', 'Enschede': 'Zwolle', 'Haaksbergen': 'Zwolle', 'Hardenberg': 'Zwolle', 'Hellendoorn': 'Zwolle', 'Hengelo': 'Zwolle', 'Hof van Twente': 'Zwolle', 'Kampen': 'Zwolle', 'Losser': 'Zwolle', 'Oldenzaal': 'Zwolle', 'Olst-Wijhe': 'Zwolle', 'Ommen': 'Zwolle', 'Raalte': 'Zwolle', 'Rijssen-Holten': 'Zwolle', 'Staphorst': 'Zwolle', 'Steenwijkerland': 'Zwolle', 'Tubbergen': 'Zwolle', 'Twenterand': 'Zwolle', 'Wierden': 'Zwolle', 'Zwartewaterland': 'Zwolle', 'Zwolle': 'Zwolle', 'Almere': 'Lelystad', 'Dronten': 'Lelystad', 'Lelystad': 'Lelystad', 'Noordoostpolder': 'Lelystad', 'Urk': 'Lelystad', 'Zeewolde': 'Lelystad', 'Amersfoort': 'Utrecht', 'Baarn': 'Utrecht', 'De Bilt': 'Utrecht', 'Bunnik': 'Utrecht', 'Bunschoten': 'Utrecht', 'Eemnes': 'Utrecht', 'Houten': 'Utrecht', 'IJsselstein': 'Utrecht', 'Leusden': 'Utrecht', 'Lopik': 'Utrecht', 'Montfoort': 'Utrecht', 'Nieuwegein': 'Utrecht', 'Oudewater': 'Utrecht', 'Renswoude': 'Utrecht', 'Rhenen': 'Utrecht', 'De Ronde Venen': 'Utrecht', 'Soest': 'Utrecht', 'Stichtse Vecht': 'Utrecht', 'Utrecht': 'Utrecht', 'Utrechtse Heuvelrug': 'Utrecht', 'Veenendaal': 'Utrecht', 'Vijfheerenlanden': 'Utrecht', 'Wijk bij Duurstede': 'Utrecht', 'Woerden': 'Utrecht', 'Woudenberg': 'Utrecht', 'Zeist': 'Utrecht', 'Borsele': 'Middelburg', 'Goes': 'Middelburg', 'Hulst': 'Middelburg', 'Kapelle': 'Middelburg', 'Middelburg': 'Middelburg', 'Noord-Beveland': 'Middelburg', 'Reimerswaal': 'Middelburg', 'Schouwen-Duiveland': 'Middelburg', 'Sluis': 'Middelburg', 'Terneuzen': 'Middelburg', 'Tholen': 'Middelburg', 'Veere': 'Middelburg', 'Vlissingen': 'Middelburg', 'Beek': 'Maastricht', 'Beekdaelen': 'Maastricht', 'Beesel': 'Maastricht', 'Bergen (L.)': 'Maastricht', 'Brunssum': 'Maastricht', 'Echt-Susteren': 'Maastricht', 'Eijsden-Margraten': 'Maastricht', 'Gennep': 'Maastricht', 'Gulpen-Wittem': 'Maastricht', 'Heerlen': 'Maastricht', 'Horst aan de Maas': 'Maastricht', 'Kerkrade': 'Maastricht', 'Landgraaf': 'Maastricht', 'Leudal': 'Maastricht', 'Maasgouw': 'Maastricht', 'Maastricht': 'Maastricht', 'Meerssen': 'Maastricht', 'Mook en Middelaar': 'Maastricht', 'Nederweert': 'Maastricht', 'Peel en Maas': 'Maastricht', 'Roerdalen': 'Maastricht', 'Roermond': 'Maastricht', 'Simpelveld': 'Maastricht', 'Sittard-Geleen': 'Maastricht', 'Stein': 'Maastricht', 'Vaals': 'Maastricht', 'Valkenburg aan de Geul': 'Maastricht', 'Venlo': 'Maastricht', 'Venray': 'Maastricht', 'Voerendaal': 'Maastricht', 'Weert': 'Maastricht', 'Berg en Dal': 'Nijmegen', 'Beuningen': 'Nijmegen', 'Buren': 'Nijmegen', 'Culemborg': 'Nijmegen', 'Druten': 'Nijmegen', 'Heumen': 'Nijmegen', 'Maasdriel': 'Nijmegen', 'Neder-Betuwe': 'Nijmegen', 'Nijmegen': 'Nijmegen', 'Tiel': 'Nijmegen', 'West Betuwe': 'Nijmegen', 'West Maas en Waal': 'Nijmegen', 'Wijchen': 'Nijmegen', 'Zaltbommel': 'Nijmegen', 'Aalsmeer': 'Haarlem', 'Amstelveen': 'Haarlem', 'Beverwijk': 'Haarlem', 'Blaricum': 'Haarlem', 'Bloemendaal': 'Haarlem', 'Diemen': 'Haarlem', 'Gooise Meren': 'Haarlem', 'Haarlem': 'Haarlem', 'Haarlemmermeer': 'Haarlem', 'Heemskerk': 'Haarlem', 'Heemstede': 'Haarlem', 'Hilversum': 'Haarlem', 'Huizen': 'Haarlem', 'Laren': 'Haarlem', 'Ouder-Amstel': 'Haarlem', 'Uithoorn': 'Haarlem', 'Velsen,\\xa0Wijdemeren': 'Haarlem', 'Zandvoort': 'Haarlem', 'Alblasserdam': 'Dordrecht', 'Albrandswaard': 'Dordrecht', 'Barendrecht': 'Dordrecht', 'Delft': 'Dordrecht', 'Dordrecht': 'Dordrecht', 'Goeree-Overflakkee': 'Dordrecht', 'Gorinchem': 'Dordrecht', 'Hardinxveld-Giessendam,\\xa0Hendrik-Ido-Ambacht': 'Dordrecht', 'Hoeksche Waard': 'Dordrecht', 'Maassluis': 'Dordrecht', 'Midden-Delfland': 'Dordrecht', 'Molenlanden': 'Dordrecht', 'Nissewaard': 'Dordrecht', 'Papendrecht': 'Dordrecht', 'Ridderkerk': 'Dordrecht', 'Rijswijk': 'Dordrecht', 'Schiedam': 'Dordrecht', 'Sliedrecht': 'Dordrecht', 'Vlaardingen': 'Dordrecht', 'Westland': 'Dordrecht', 'Voorne aan Zee': 'Dordrecht', 'Zwijndrecht': 'Dordrecht', 'Alphen-Chaam': 'Tilburg', 'Altena': 'Tilburg', 'Baarle-Nassau': 'Tilburg', 'Bergen op Zoom': 'Tilburg', 'Breda': 'Tilburg', 'Dongen': 'Tilburg', 'Drimmelen': 'Tilburg', 'Etten-Leur': 'Tilburg', 'Geertruidenberg': 'Tilburg', 'Gilze en Rijen': 'Tilburg', 'Goirle': 'Tilburg', 'Halderberge': 'Tilburg', 'Hilvarenbeek': 'Tilburg', 'Loon op Zand': 'Tilburg', 'Moerdijk': 'Tilburg', 'Oisterwijk': 'Tilburg', 'Oosterhout': 'Tilburg', 'Roosendaal': 'Tilburg', 'Rucphen': 'Tilburg', 'Steenbergen': 'Tilburg', 'Tilburg': 'Tilburg', 'Waalwijk': 'Tilburg', 'Woensdrecht': 'Tilburg', 'Zundert': 'Tilburg', 'Amsterdam': 'Amsterdam', \"'s-Gravenhage\": \"'s-Gravenhage\", 'Buitenland': \"'s-Gravenhage\", 'Rotterdam': 'Rotterdam', 'Aalten': 'Arnhem', 'Apeldoorn': 'Arnhem', 'Arnhem': 'Arnhem', 'Barneveld': 'Arnhem', 'Berkelland': 'Arnhem', 'Bronckhorst': 'Arnhem', 'Brummen': 'Arnhem', 'Doesburg': 'Arnhem', 'Doetinchem': 'Arnhem', 'Duiven': 'Arnhem', 'Ede': 'Arnhem', 'Elburg': 'Arnhem', 'Epe': 'Arnhem', 'Ermelo': 'Arnhem', 'Harderwijk': 'Arnhem', 'Hattem': 'Arnhem', 'Heerde': 'Arnhem', 'Lingewaard': 'Arnhem', 'Lochem': 'Arnhem', 'Montferland': 'Arnhem', 'Nijkerk': 'Arnhem', 'Nunspeet': 'Arnhem', 'Oldebroek': 'Arnhem', 'Oost Gelre': 'Arnhem', 'Oude IJsselstreek': 'Arnhem', 'Overbetuwe': 'Arnhem', 'Putten': 'Arnhem', 'Renkum': 'Arnhem', 'Rheden': 'Arnhem', 'Rozendaal': 'Arnhem', 'Scherpenzeel': 'Arnhem', 'Voorst': 'Arnhem', 'Wageningen': 'Arnhem', 'Westervoort': 'Arnhem', 'Winterswijk': 'Arnhem', 'Zevenaar': 'Arnhem', 'Zutphen': 'Arnhem', 'Alkmaar': 'Den Helder', 'Beemster': 'Den Helder', 'Bergen (NH.)': 'Den Helder', 'Castricum': 'Den Helder', 'Drechterland': 'Den Helder', 'Edam-Volendam': 'Den Helder', 'Enkhuizen': 'Den Helder', 'Heerhugowaard': 'Den Helder', 'Heiloo': 'Den Helder', 'Den Helder': 'Den Helder', 'Hollands Kroon': 'Den Helder', 'Hoorn': 'Den Helder', 'Koggenland': 'Den Helder', 'Landsmeer': 'Den Helder', 'Langedijk': 'Den Helder', 'Medemblik': 'Den Helder', 'Oostzaan': 'Den Helder', 'Opmeer': 'Den Helder', 'Purmerend': 'Den Helder', 'Schagen': 'Den Helder', 'Stede Broec': 'Den Helder', 'Texel': 'Den Helder', 'Uitgeest': 'Den Helder', 'Velsen': 'Den Helder', 'Waterland': 'Den Helder', 'Weesp': 'Den Helder', 'Wijdemeren': 'Den Helder', 'Wormerland': 'Den Helder', 'Zaanstad': 'Den Helder', 'Alphen aan den Rijn': 'Leiden', 'Bodegraven-Reeuwijk': 'Leiden', 'Brielle': 'Leiden', 'Capelle aan den IJssel': 'Leiden', 'Gouda': 'Leiden', 'Hardinxveld-Giessendam': 'Leiden', 'Hellevoetsluis': 'Leiden', 'Hendrik-Ido-Ambacht': 'Leiden', 'Hillegom': 'Leiden', 'Kaag en Braassem': 'Leiden', 'Katwijk': 'Leiden', 'Krimpen aan den IJssel': 'Leiden', 'Krimpenerwaard': 'Leiden', 'Lansingerland': 'Leiden', 'Leiden': 'Leiden', 'Leiderdorp': 'Leiden', 'Leidschendam-Voorburg': 'Leiden', 'Lisse': 'Leiden', 'Nieuwkoop': 'Leiden', 'Noordwijk': 'Leiden', 'Oegstgeest': 'Leiden', 'Pijnacker-Nootdorp': 'Leiden', 'Teylingen': 'Leiden', 'Voorschoten': 'Leiden', 'Waddinxveen': 'Leiden', 'Wassenaar': 'Leiden', 'Westvoorne': 'Leiden', 'Zoetermeer': 'Leiden', 'Zoeterwoude': 'Leiden', 'Zuidplas': 'Leiden', 'Asten': '’s-Hertogenbosch', 'Bergeijk': '’s-Hertogenbosch', 'Bernheze': '’s-Hertogenbosch', 'Best': '’s-Hertogenbosch', 'Bladel': '’s-Hertogenbosch', 'Boekel': '’s-Hertogenbosch', 'Boxmeer': '’s-Hertogenbosch', 'Boxtel': '’s-Hertogenbosch', 'Cranendonck': '’s-Hertogenbosch', 'Cuijk': '’s-Hertogenbosch', 'Deurne': '’s-Hertogenbosch', 'Eersel': '’s-Hertogenbosch', 'Eindhoven': '’s-Hertogenbosch', 'Geldrop-Mierlo': '’s-Hertogenbosch', 'Gemert-Bakel': '’s-Hertogenbosch', 'Grave': '’s-Hertogenbosch', 'Heeze-Leende': '’s-Hertogenbosch', 'Helmond': '’s-Hertogenbosch', \"'s-Hertogenbosch\": '’s-Hertogenbosch', 'Heusden': '’s-Hertogenbosch', 'Laarbeek': '’s-Hertogenbosch', 'Landerd': '’s-Hertogenbosch', 'Meierijstad': '’s-Hertogenbosch', 'Mill en Sint Hubert': '’s-Hertogenbosch', 'Nuenen, Gerwen en Nederwetten': '’s-Hertogenbosch', 'Oirschot': '’s-Hertogenbosch', 'Oss': '’s-Hertogenbosch', 'Reusel-De Mierden': '’s-Hertogenbosch', 'Sint Anthonis': '’s-Hertogenbosch', 'Sint-Michielsgestel': '’s-Hertogenbosch', 'Someren': '’s-Hertogenbosch', 'Son en Breugel': '’s-Hertogenbosch', 'Uden': '’s-Hertogenbosch', 'Valkenswaard': '’s-Hertogenbosch', 'Veldhoven': '’s-Hertogenbosch', 'Vught': '’s-Hertogenbosch', 'Waalre': '’s-Hertogenbosch'}\n"
     ]
    }
   ],
   "source": [
    "import re\n",
    "\n",
    "# Alle gemeenten per kieskring in een aparte lijst zetten en wat nutteloze\n",
    "# tekst aan het begin van iedere lijst verwijderen\n",
    "for i, el in enumerate(gemeenten_raw[:-1]):\n",
    "    if 'De provincie' in el:\n",
    "        for gem in cbs:\n",
    "            if gem['Naam_27'] == el.replace('De provincie ', '').replace('.', ''):\n",
    "                gemeenten[gem['Naam_2']] = kieskringen[i]\n",
    "    elif 'De gemeenten van de' in el:\n",
    "        provincie = re.search(r\"provincie (?P<provincie>\\S+)\", el).group(1)\n",
    "        for gem in cbs:\n",
    "            if gem['Naam_27'] == provincie and gem['Naam_2'] not in gemeenten:\n",
    "                gemeenten[gem['Naam_2']] = kieskringen[i]\n",
    "    elif 'De gemeenten ' in el:\n",
    "        gems = el.replace('De gemeenten ', '').replace('.', '')\n",
    "        for gem in gems.split(', '):\n",
    "            gemeenten[gem] = kieskringen[i]\n",
    "    elif 'De gemeente Amsterdam' in el:\n",
    "        gemeenten['Amsterdam'] = kieskringen[i]\n",
    "    elif 'De gemeente Rotterdam' in el:\n",
    "        gemeenten['Rotterdam'] = kieskringen[i]\n",
    "    elif \"De gemeente 's-G\" in el:\n",
    "        gemeenten[\"'s-Gravenhage\"] = kieskringen[i]\n",
    "        gemeenten[\"Buitenland\"] = kieskringen[i]\n",
    "    else:\n",
    "        print(el)\n",
    "print(gemeenten)"
   ]
  },
  {
   "cell_type": "code",
   "execution_count": 46,
   "metadata": {},
   "outputs": [],
   "source": [
    "for gem in cbs:\n",
    "    if gem['Naam_2'] not in gemeenten:\n",
    "        print(gem['Naam_2'])"
   ]
  },
  {
   "cell_type": "code",
   "execution_count": 54,
   "metadata": {},
   "outputs": [],
   "source": [
    "for gem in ['Bonaire', 'Sint Eustatius', 'Saba']:\n",
    "    gemeenten[gem] = 'Bonaire'"
   ]
  },
  {
   "cell_type": "code",
   "execution_count": 56,
   "metadata": {},
   "outputs": [
    {
     "name": "stdout",
     "output_type": "stream",
     "text": [
      "{'Eemsdelta': 'Groningen', 'Groningen': 'Groningen', 'Het Hogeland': 'Groningen', 'Midden-Groningen': 'Groningen', 'Oldambt': 'Groningen', 'Pekela': 'Groningen', 'Stadskanaal': 'Groningen', 'Veendam': 'Groningen', 'Westerkwartier': 'Groningen', 'Westerwolde': 'Groningen', 'Achtkarspelen': 'Leeuwarden', 'Ameland': 'Leeuwarden', 'Dantumadiel': 'Leeuwarden', 'De Fryske Marren': 'Leeuwarden', 'Harlingen': 'Leeuwarden', 'Heerenveen': 'Leeuwarden', 'Leeuwarden': 'Leeuwarden', 'Noardeast-Fryslân': 'Leeuwarden', 'Ooststellingwerf': 'Leeuwarden', 'Opsterland': 'Leeuwarden', 'Schiermonnikoog': 'Leeuwarden', 'Smallingerland': 'Leeuwarden', 'Súdwest-Fryslân': 'Leeuwarden', 'Terschelling': 'Leeuwarden', 'Tytsjerksteradiel': 'Leeuwarden', 'Vlieland': 'Leeuwarden', 'Waadhoeke': 'Leeuwarden', 'Weststellingwerf': 'Leeuwarden', 'Aa en Hunze': 'Assen', 'Assen': 'Assen', 'Borger-Odoorn': 'Assen', 'Coevorden': 'Assen', 'Emmen': 'Assen', 'Hoogeveen': 'Assen', 'Meppel': 'Assen', 'Midden-Drenthe': 'Assen', 'Noordenveld': 'Assen', 'Tynaarlo': 'Assen', 'Westerveld': 'Assen', 'De Wolden': 'Assen', 'Almelo': 'Zwolle', 'Borne': 'Zwolle', 'Dalfsen': 'Zwolle', 'Deventer': 'Zwolle', 'Dinkelland': 'Zwolle', 'Enschede': 'Zwolle', 'Haaksbergen': 'Zwolle', 'Hardenberg': 'Zwolle', 'Hellendoorn': 'Zwolle', 'Hengelo': 'Zwolle', 'Hof van Twente': 'Zwolle', 'Kampen': 'Zwolle', 'Losser': 'Zwolle', 'Oldenzaal': 'Zwolle', 'Olst-Wijhe': 'Zwolle', 'Ommen': 'Zwolle', 'Raalte': 'Zwolle', 'Rijssen-Holten': 'Zwolle', 'Staphorst': 'Zwolle', 'Steenwijkerland': 'Zwolle', 'Tubbergen': 'Zwolle', 'Twenterand': 'Zwolle', 'Wierden': 'Zwolle', 'Zwartewaterland': 'Zwolle', 'Zwolle': 'Zwolle', 'Almere': 'Lelystad', 'Dronten': 'Lelystad', 'Lelystad': 'Lelystad', 'Noordoostpolder': 'Lelystad', 'Urk': 'Lelystad', 'Zeewolde': 'Lelystad', 'Amersfoort': 'Utrecht', 'Baarn': 'Utrecht', 'De Bilt': 'Utrecht', 'Bunnik': 'Utrecht', 'Bunschoten': 'Utrecht', 'Eemnes': 'Utrecht', 'Houten': 'Utrecht', 'IJsselstein': 'Utrecht', 'Leusden': 'Utrecht', 'Lopik': 'Utrecht', 'Montfoort': 'Utrecht', 'Nieuwegein': 'Utrecht', 'Oudewater': 'Utrecht', 'Renswoude': 'Utrecht', 'Rhenen': 'Utrecht', 'De Ronde Venen': 'Utrecht', 'Soest': 'Utrecht', 'Stichtse Vecht': 'Utrecht', 'Utrecht': 'Utrecht', 'Utrechtse Heuvelrug': 'Utrecht', 'Veenendaal': 'Utrecht', 'Vijfheerenlanden': 'Utrecht', 'Wijk bij Duurstede': 'Utrecht', 'Woerden': 'Utrecht', 'Woudenberg': 'Utrecht', 'Zeist': 'Utrecht', 'Borsele': 'Middelburg', 'Goes': 'Middelburg', 'Hulst': 'Middelburg', 'Kapelle': 'Middelburg', 'Middelburg': 'Middelburg', 'Noord-Beveland': 'Middelburg', 'Reimerswaal': 'Middelburg', 'Schouwen-Duiveland': 'Middelburg', 'Sluis': 'Middelburg', 'Terneuzen': 'Middelburg', 'Tholen': 'Middelburg', 'Veere': 'Middelburg', 'Vlissingen': 'Middelburg', 'Beek': 'Maastricht', 'Beekdaelen': 'Maastricht', 'Beesel': 'Maastricht', 'Bergen (L.)': 'Maastricht', 'Brunssum': 'Maastricht', 'Echt-Susteren': 'Maastricht', 'Eijsden-Margraten': 'Maastricht', 'Gennep': 'Maastricht', 'Gulpen-Wittem': 'Maastricht', 'Heerlen': 'Maastricht', 'Horst aan de Maas': 'Maastricht', 'Kerkrade': 'Maastricht', 'Landgraaf': 'Maastricht', 'Leudal': 'Maastricht', 'Maasgouw': 'Maastricht', 'Maastricht': 'Maastricht', 'Meerssen': 'Maastricht', 'Mook en Middelaar': 'Maastricht', 'Nederweert': 'Maastricht', 'Peel en Maas': 'Maastricht', 'Roerdalen': 'Maastricht', 'Roermond': 'Maastricht', 'Simpelveld': 'Maastricht', 'Sittard-Geleen': 'Maastricht', 'Stein': 'Maastricht', 'Vaals': 'Maastricht', 'Valkenburg aan de Geul': 'Maastricht', 'Venlo': 'Maastricht', 'Venray': 'Maastricht', 'Voerendaal': 'Maastricht', 'Weert': 'Maastricht', 'Berg en Dal': 'Nijmegen', 'Beuningen': 'Nijmegen', 'Buren': 'Nijmegen', 'Culemborg': 'Nijmegen', 'Druten': 'Nijmegen', 'Heumen': 'Nijmegen', 'Maasdriel': 'Nijmegen', 'Neder-Betuwe': 'Nijmegen', 'Nijmegen': 'Nijmegen', 'Tiel': 'Nijmegen', 'West Betuwe': 'Nijmegen', 'West Maas en Waal': 'Nijmegen', 'Wijchen': 'Nijmegen', 'Zaltbommel': 'Nijmegen', 'Aalsmeer': 'Haarlem', 'Amstelveen': 'Haarlem', 'Beverwijk': 'Haarlem', 'Blaricum': 'Haarlem', 'Bloemendaal': 'Haarlem', 'Diemen': 'Haarlem', 'Gooise Meren': 'Haarlem', 'Haarlem': 'Haarlem', 'Haarlemmermeer': 'Haarlem', 'Heemskerk': 'Haarlem', 'Heemstede': 'Haarlem', 'Hilversum': 'Haarlem', 'Huizen': 'Haarlem', 'Laren': 'Haarlem', 'Ouder-Amstel': 'Haarlem', 'Uithoorn': 'Haarlem', 'Velsen,\\xa0Wijdemeren': 'Haarlem', 'Zandvoort': 'Haarlem', 'Alblasserdam': 'Dordrecht', 'Albrandswaard': 'Dordrecht', 'Barendrecht': 'Dordrecht', 'Delft': 'Dordrecht', 'Dordrecht': 'Dordrecht', 'Goeree-Overflakkee': 'Dordrecht', 'Gorinchem': 'Dordrecht', 'Hardinxveld-Giessendam,\\xa0Hendrik-Ido-Ambacht': 'Dordrecht', 'Hoeksche Waard': 'Dordrecht', 'Maassluis': 'Dordrecht', 'Midden-Delfland': 'Dordrecht', 'Molenlanden': 'Dordrecht', 'Nissewaard': 'Dordrecht', 'Papendrecht': 'Dordrecht', 'Ridderkerk': 'Dordrecht', 'Rijswijk': 'Dordrecht', 'Schiedam': 'Dordrecht', 'Sliedrecht': 'Dordrecht', 'Vlaardingen': 'Dordrecht', 'Westland': 'Dordrecht', 'Voorne aan Zee': 'Dordrecht', 'Zwijndrecht': 'Dordrecht', 'Alphen-Chaam': 'Tilburg', 'Altena': 'Tilburg', 'Baarle-Nassau': 'Tilburg', 'Bergen op Zoom': 'Tilburg', 'Breda': 'Tilburg', 'Dongen': 'Tilburg', 'Drimmelen': 'Tilburg', 'Etten-Leur': 'Tilburg', 'Geertruidenberg': 'Tilburg', 'Gilze en Rijen': 'Tilburg', 'Goirle': 'Tilburg', 'Halderberge': 'Tilburg', 'Hilvarenbeek': 'Tilburg', 'Loon op Zand': 'Tilburg', 'Moerdijk': 'Tilburg', 'Oisterwijk': 'Tilburg', 'Oosterhout': 'Tilburg', 'Roosendaal': 'Tilburg', 'Rucphen': 'Tilburg', 'Steenbergen': 'Tilburg', 'Tilburg': 'Tilburg', 'Waalwijk': 'Tilburg', 'Woensdrecht': 'Tilburg', 'Zundert': 'Tilburg', 'Amsterdam': 'Amsterdam', \"'s-Gravenhage\": \"'s-Gravenhage\", 'Buitenland': \"'s-Gravenhage\", 'Rotterdam': 'Rotterdam', 'Aalten': 'Arnhem', 'Apeldoorn': 'Arnhem', 'Arnhem': 'Arnhem', 'Barneveld': 'Arnhem', 'Berkelland': 'Arnhem', 'Bronckhorst': 'Arnhem', 'Brummen': 'Arnhem', 'Doesburg': 'Arnhem', 'Doetinchem': 'Arnhem', 'Duiven': 'Arnhem', 'Ede': 'Arnhem', 'Elburg': 'Arnhem', 'Epe': 'Arnhem', 'Ermelo': 'Arnhem', 'Harderwijk': 'Arnhem', 'Hattem': 'Arnhem', 'Heerde': 'Arnhem', 'Lingewaard': 'Arnhem', 'Lochem': 'Arnhem', 'Montferland': 'Arnhem', 'Nijkerk': 'Arnhem', 'Nunspeet': 'Arnhem', 'Oldebroek': 'Arnhem', 'Oost Gelre': 'Arnhem', 'Oude IJsselstreek': 'Arnhem', 'Overbetuwe': 'Arnhem', 'Putten': 'Arnhem', 'Renkum': 'Arnhem', 'Rheden': 'Arnhem', 'Rozendaal': 'Arnhem', 'Scherpenzeel': 'Arnhem', 'Voorst': 'Arnhem', 'Wageningen': 'Arnhem', 'Westervoort': 'Arnhem', 'Winterswijk': 'Arnhem', 'Zevenaar': 'Arnhem', 'Zutphen': 'Arnhem', 'Alkmaar': 'Den Helder', 'Beemster': 'Den Helder', 'Bergen (NH.)': 'Den Helder', 'Castricum': 'Den Helder', 'Drechterland': 'Den Helder', 'Edam-Volendam': 'Den Helder', 'Enkhuizen': 'Den Helder', 'Heerhugowaard': 'Den Helder', 'Heiloo': 'Den Helder', 'Den Helder': 'Den Helder', 'Hollands Kroon': 'Den Helder', 'Hoorn': 'Den Helder', 'Koggenland': 'Den Helder', 'Landsmeer': 'Den Helder', 'Langedijk': 'Den Helder', 'Medemblik': 'Den Helder', 'Oostzaan': 'Den Helder', 'Opmeer': 'Den Helder', 'Purmerend': 'Den Helder', 'Schagen': 'Den Helder', 'Stede Broec': 'Den Helder', 'Texel': 'Den Helder', 'Uitgeest': 'Den Helder', 'Velsen': 'Den Helder', 'Waterland': 'Den Helder', 'Weesp': 'Den Helder', 'Wijdemeren': 'Den Helder', 'Wormerland': 'Den Helder', 'Zaanstad': 'Den Helder', 'Alphen aan den Rijn': 'Leiden', 'Bodegraven-Reeuwijk': 'Leiden', 'Brielle': 'Leiden', 'Capelle aan den IJssel': 'Leiden', 'Gouda': 'Leiden', 'Hardinxveld-Giessendam': 'Leiden', 'Hellevoetsluis': 'Leiden', 'Hendrik-Ido-Ambacht': 'Leiden', 'Hillegom': 'Leiden', 'Kaag en Braassem': 'Leiden', 'Katwijk': 'Leiden', 'Krimpen aan den IJssel': 'Leiden', 'Krimpenerwaard': 'Leiden', 'Lansingerland': 'Leiden', 'Leiden': 'Leiden', 'Leiderdorp': 'Leiden', 'Leidschendam-Voorburg': 'Leiden', 'Lisse': 'Leiden', 'Nieuwkoop': 'Leiden', 'Noordwijk': 'Leiden', 'Oegstgeest': 'Leiden', 'Pijnacker-Nootdorp': 'Leiden', 'Teylingen': 'Leiden', 'Voorschoten': 'Leiden', 'Waddinxveen': 'Leiden', 'Wassenaar': 'Leiden', 'Westvoorne': 'Leiden', 'Zoetermeer': 'Leiden', 'Zoeterwoude': 'Leiden', 'Zuidplas': 'Leiden', 'Asten': '’s-Hertogenbosch', 'Bergeijk': '’s-Hertogenbosch', 'Bernheze': '’s-Hertogenbosch', 'Best': '’s-Hertogenbosch', 'Bladel': '’s-Hertogenbosch', 'Boekel': '’s-Hertogenbosch', 'Boxmeer': '’s-Hertogenbosch', 'Boxtel': '’s-Hertogenbosch', 'Cranendonck': '’s-Hertogenbosch', 'Cuijk': '’s-Hertogenbosch', 'Deurne': '’s-Hertogenbosch', 'Eersel': '’s-Hertogenbosch', 'Eindhoven': '’s-Hertogenbosch', 'Geldrop-Mierlo': '’s-Hertogenbosch', 'Gemert-Bakel': '’s-Hertogenbosch', 'Grave': '’s-Hertogenbosch', 'Heeze-Leende': '’s-Hertogenbosch', 'Helmond': '’s-Hertogenbosch', \"'s-Hertogenbosch\": '’s-Hertogenbosch', 'Heusden': '’s-Hertogenbosch', 'Laarbeek': '’s-Hertogenbosch', 'Landerd': '’s-Hertogenbosch', 'Meierijstad': '’s-Hertogenbosch', 'Mill en Sint Hubert': '’s-Hertogenbosch', 'Nuenen, Gerwen en Nederwetten': '’s-Hertogenbosch', 'Oirschot': '’s-Hertogenbosch', 'Oss': '’s-Hertogenbosch', 'Reusel-De Mierden': '’s-Hertogenbosch', 'Sint Anthonis': '’s-Hertogenbosch', 'Sint-Michielsgestel': '’s-Hertogenbosch', 'Someren': '’s-Hertogenbosch', 'Son en Breugel': '’s-Hertogenbosch', 'Uden': '’s-Hertogenbosch', 'Valkenswaard': '’s-Hertogenbosch', 'Veldhoven': '’s-Hertogenbosch', 'Vught': '’s-Hertogenbosch', 'Waalre': '’s-Hertogenbosch', 'Bonaire': 'Bonaire', 'Sint Eustatius': 'Bonaire', 'Saba': 'Bonaire'}\n"
     ]
    }
   ],
   "source": [
    "print(gemeenten)\n",
    "\n",
    "with open('gemeenten-kieskringen.json', 'w', encoding='utf8') as fp:\n",
    "\tjson.dump(gemeenten, fp, ensure_ascii=False, indent=2)"
   ]
  }
 ],
 "metadata": {
  "kernelspec": {
   "display_name": "Python 3",
   "language": "python",
   "name": "python3"
  },
  "language_info": {
   "codemirror_mode": {
    "name": "ipython",
    "version": 3
   },
   "file_extension": ".py",
   "mimetype": "text/x-python",
   "name": "python",
   "nbconvert_exporter": "python",
   "pygments_lexer": "ipython3",
   "version": "3.11.6"
  }
 },
 "nbformat": 4,
 "nbformat_minor": 2
}

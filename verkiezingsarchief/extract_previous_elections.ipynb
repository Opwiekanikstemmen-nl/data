{
 "cells": [
  {
   "cell_type": "code",
   "execution_count": 2,
   "metadata": {},
   "outputs": [],
   "source": [
    "import pandas as pd\n",
    "import re"
   ]
  },
  {
   "cell_type": "code",
   "execution_count": 25,
   "metadata": {},
   "outputs": [
    {
     "name": "stdout",
     "output_type": "stream",
     "text": [
      "<class 'pandas.core.frame.DataFrame'>\n",
      "RangeIndex: 1128 entries, 0 to 1127\n",
      "Data columns (total 10 columns):\n",
      " #   Column         Non-Null Count  Dtype \n",
      "---  ------         --------------  ----- \n",
      " 0   iri            1128 non-null   object\n",
      " 1   id             1128 non-null   object\n",
      " 2   naam           1128 non-null   object\n",
      " 3   voornaam       1128 non-null   object\n",
      " 4   achternaam     1128 non-null   object\n",
      " 5   voorletters    1128 non-null   object\n",
      " 6   geslacht       748 non-null    object\n",
      " 7   verkiezingen   1128 non-null   object\n",
      " 8   urls           978 non-null    object\n",
      " 9   geboortedatum  248 non-null    object\n",
      "dtypes: object(10)\n",
      "memory usage: 88.2+ KB\n"
     ]
    }
   ],
   "source": [
    "json = pd.read_json('../kandidaten.json')\n",
    "json.info()"
   ]
  },
  {
   "cell_type": "code",
   "execution_count": 35,
   "metadata": {},
   "outputs": [
    {
     "name": "stdout",
     "output_type": "stream",
     "text": [
      "<class 'pandas.core.frame.DataFrame'>\n",
      "RangeIndex: 2687 entries, 0 to 2686\n",
      "Data columns (total 81 columns):\n",
      " #   Column                       Non-Null Count  Dtype  \n",
      "---  ------                       --------------  -----  \n",
      " 0   Unnamed: 0                   2687 non-null   int64  \n",
      " 1   Lijstnummer                  2604 non-null   float64\n",
      " 2   Aanduiding                   2683 non-null   object \n",
      " 3   Positie                      898 non-null    float64\n",
      " 4   Initialen                    2685 non-null   object \n",
      " 5   Roepnaam                     2538 non-null   object \n",
      " 6   Tussenvoegsels               712 non-null    object \n",
      " 7   Achternaam                   2681 non-null   object \n",
      " 8   Geslacht                     1726 non-null   object \n",
      " 9   Woonplaats                   2327 non-null   object \n",
      " 10  Stemmen                      1280 non-null   float64\n",
      " 11  Verkiezing                   2687 non-null   object \n",
      " 12  Party_WD_id                  1387 non-null   object \n",
      " 13  Qid                          2687 non-null   object \n",
      " 14  Positie_Groningen            1521 non-null   float64\n",
      " 15  Positie_Fryslan              1535 non-null   float64\n",
      " 16  Positie_Drenthe              1499 non-null   float64\n",
      " 17  Positie_Overijssel           1541 non-null   float64\n",
      " 18  Positie_Flevoland            1535 non-null   float64\n",
      " 19  Positie_Nijmegen             1475 non-null   float64\n",
      " 20  Positie_Arnhem               1465 non-null   float64\n",
      " 21  Positie_Utrecht              1542 non-null   float64\n",
      " 22  Positie_Amsterdam            1495 non-null   float64\n",
      " 23  Positie_Haarlem              1479 non-null   float64\n",
      " 24  Positie_Den_Helder           1455 non-null   float64\n",
      " 25  Positie_Den_Haag             1458 non-null   float64\n",
      " 26  Positie_Rotterdam            1464 non-null   float64\n",
      " 27  Positie_Dordrecht            1474 non-null   float64\n",
      " 28  Positie_Leiden               1486 non-null   float64\n",
      " 29  Positie_Zeeland              1499 non-null   float64\n",
      " 30  Positie_Tilburg              1476 non-null   float64\n",
      " 31  Positie_Den_Bosch            1463 non-null   float64\n",
      " 32  Positie_Limburg              1529 non-null   float64\n",
      " 33  Positie_Caribisch_Nederland  1244 non-null   float64\n",
      " 34  Stemmen_Groningen            545 non-null    float64\n",
      " 35  Stemmen_Fryslan              547 non-null    float64\n",
      " 36  Stemmen_Drenthe              537 non-null    float64\n",
      " 37  Stemmen_Overijssel           551 non-null    float64\n",
      " 38  Stemmen_Flevoland            545 non-null    float64\n",
      " 39  Stemmen_Nijmegen             501 non-null    float64\n",
      " 40  Stemmen_Arnhem               502 non-null    float64\n",
      " 41  Stemmen_Utrecht              542 non-null    float64\n",
      " 42  Stemmen_Amsterdam            503 non-null    float64\n",
      " 43  Stemmen_Haarlem              499 non-null    float64\n",
      " 44  Stemmen_Den_Helder           500 non-null    float64\n",
      " 45  Stemmen_Den_Haag             501 non-null    float64\n",
      " 46  Stemmen_Rotterdam            496 non-null    float64\n",
      " 47  Stemmen_Dordrecht            495 non-null    float64\n",
      " 48  Stemmen_Leiden               496 non-null    float64\n",
      " 49  Stemmen_Zeeland              539 non-null    float64\n",
      " 50  Stemmen_Tilburg              497 non-null    float64\n",
      " 51  Stemmen_Den_Bosch            497 non-null    float64\n",
      " 52  Stemmen_Limburg              541 non-null    float64\n",
      " 53  Stemmen_Caribisch_Nederland  383 non-null    float64\n",
      " 54  Stemmen_Maastricht           0 non-null      float64\n",
      " 55  Positie_Maastricht           8 non-null      float64\n",
      " 56  Stemmen_Venlo                0 non-null      float64\n",
      " 57  Positie_Venlo                8 non-null      float64\n",
      " 58  Stemmen_s-Gravenhage         0 non-null      float64\n",
      " 59  Positie_s-Gravenhage         22 non-null     float64\n",
      " 60  Stemmen_s-Hertogenbosch      0 non-null      float64\n",
      " 61  Positie_s-Hertogenbosch      12 non-null     float64\n",
      " 62  Stemmen_Gelderland           50 non-null     float64\n",
      " 63  Positie_Gelderland           83 non-null     float64\n",
      " 64  Stemmen_Noord_Holland        48 non-null     float64\n",
      " 65  Positie_Noord_Holland        80 non-null     float64\n",
      " 66  Stemmen_Zuid_Holland         45 non-null     float64\n",
      " 67  Positie_Zuid_Holland         78 non-null     float64\n",
      " 68  Stemmen_Noord_Brabant        47 non-null     float64\n",
      " 69  Positie_Noord_Brabant        79 non-null     float64\n",
      " 70  Stemmen_Bonaire              17 non-null     float64\n",
      " 71  Positie_Bonaire              43 non-null     float64\n",
      " 72  Stemmen_Saba                 17 non-null     float64\n",
      " 73  Positie_Saba                 43 non-null     float64\n",
      " 74  Stemmen_Sint_Eustatius       17 non-null     float64\n",
      " 75  Positie_Sint_Eustatius       43 non-null     float64\n",
      " 76  Stemmen_Buitenland           0 non-null      float64\n",
      " 77  Positie_Buitenland           28 non-null     float64\n",
      " 78  Positie.1                    1 non-null      float64\n",
      " 79  Stemmen_Den Helder           0 non-null      float64\n",
      " 80  Positie_Den Helder           24 non-null     float64\n",
      "dtypes: float64(70), int64(1), object(10)\n",
      "memory usage: 1.7+ MB\n"
     ]
    }
   ],
   "source": [
    "csv = pd.read_csv('TK2023Kandidaten.csv')\n",
    "csv.info()"
   ]
  },
  {
   "cell_type": "code",
   "execution_count": 36,
   "metadata": {},
   "outputs": [
    {
     "data": {
      "text/plain": [
       "Verkiezing\n",
       "TK2023             1014\n",
       "TK2021              249\n",
       "TK2017              116\n",
       "TK2012               58\n",
       "TK2010               40\n",
       "EP2019               33\n",
       "TK2006               32\n",
       "EK2023               29\n",
       "GR2022Amsterdam      27\n",
       "EP2014               27\n",
       "Name: count, dtype: int64"
      ]
     },
     "execution_count": 36,
     "metadata": {},
     "output_type": "execute_result"
    }
   ],
   "source": [
    "csv['Verkiezing'].value_counts().head(10)"
   ]
  },
  {
   "cell_type": "code",
   "execution_count": 37,
   "metadata": {},
   "outputs": [],
   "source": [
    "def add_spaces(match):\n",
    "    return f'{match.group(1)} {match.group(2)} {match.group(3)}' if match.group(3) else f'{match.group(1)} {match.group(2)}'\n",
    "\n",
    "csv['Verkiezing'] = csv['Verkiezing'].apply(lambda x: re.sub(r'([A-Za-z]+)(\\d+)([A-Za-z]+)?', add_spaces, x))"
   ]
  },
  {
   "cell_type": "code",
   "execution_count": 43,
   "metadata": {},
   "outputs": [],
   "source": [
    "mapping = {\n",
    "    'TK': 'Tweede Kamerverkiezing',\n",
    "    'EP': 'Europees Parlementsverkiezing',\n",
    "    'EK': 'Eerste Kamerverkiezing',\n",
    "    'PS': 'Provinciale Statenverkiezing',\n",
    "    'WS': 'Waterschapsverkiezing',\n",
    "    'GR': 'Gemeenteraadsverkiezing'\n",
    "    \n",
    "    # add more mappings as needed\n",
    "}\n",
    "\n",
    "for key, value in mapping.items():\n",
    "    csv['Verkiezing'] = csv['Verkiezing'].str.replace(key, value)\n"
   ]
  },
  {
   "cell_type": "code",
   "execution_count": 49,
   "metadata": {},
   "outputs": [
    {
     "data": {
      "text/plain": [
       "Verkiezing\n",
       "Tweede Kamerverkiezing 2023                        1014\n",
       "Tweede Kamerverkiezing 2021                         249\n",
       "Tweede Kamerverkiezing 2017                         116\n",
       "Tweede Kamerverkiezing 2012                          58\n",
       "Tweede Kamerverkiezing 2010                          40\n",
       "Europees Parlementsverkiezing 2019                   33\n",
       "Tweede Kamerverkiezing 2006                          32\n",
       "Eerste Kamerverkiezing 2023                          29\n",
       "Gemeenteraadsverkiezing 2022 Amsterdam               27\n",
       "Europees Parlementsverkiezing 2014                   27\n",
       "Provinciale Statenverkiezing 2023 Noord-Holland      24\n",
       "Provinciale Statenverkiezing 2023 Zuid-Holland       22\n",
       "Gemeenteraadsverkiezing 2018 Amsterdam               22\n",
       "Eerste Kamerverkiezing 2019                          21\n",
       "Provinciale Statenverkiezing 2019 Zuid-Holland       19\n",
       "Provinciale Statenverkiezing 2023 Gelderland         18\n",
       "Gemeenteraadsverkiezing 2014 Amsterdam               18\n",
       "Eerste Kamerverkiezing 2015                          16\n",
       "Provinciale Statenverkiezing 2019 Noord-Holland      15\n",
       "Tweede Kamerverkiezing 2002                          14\n",
       "Tweede Kamerverkiezing 2003                          13\n",
       "Gemeenteraadsverkiezing 2022 Den Haag                12\n",
       "Provinciale Statenverkiezing 2019 Noord-Brabant      12\n",
       "Europees Parlementsverkiezing 2009                   12\n",
       "Eerste Kamerverkiezing 2011                          12\n",
       "Provinciale Statenverkiezing 2023 Noord-Brabant      12\n",
       "Provinciale Statenverkiezing 2015 Zuid-Holland       11\n",
       "Provinciale Statenverkiezing 2023 Groningen          10\n",
       "Provinciale Statenverkiezing 2019 Overijssel         10\n",
       "Provinciale Statenverkiezing 2015 Noord-Brabant      10\n",
       "Gemeenteraadsverkiezing 2014 Den Haag                10\n",
       "Provinciale Statenverkiezing 2019 Gelderland         10\n",
       "Provinciale Statenverkiezing 2023 Utrecht             9\n",
       "Gemeenteraadsverkiezing 2022 Groningen                9\n",
       "Gemeenteraadsverkiezing 2018 Groningen                9\n",
       "Gemeenteraadsverkiezing 2014 Rotterdam                9\n",
       "Gemeenteraadsverkiezing 2018 Rotterdam                9\n",
       "Provinciale Statenverkiezing 2015 Noord-Holland       9\n",
       "Provinciale Statenverkiezing 2023 Fryslan             9\n",
       "Provinciale Statenverkiezing 2023 Overijssel          9\n",
       "Gemeenteraadsverkiezing 2022 Rotterdam                9\n",
       "Provinciale Statenverkiezing 2015 Gelderland          8\n",
       "Gemeenteraadsverkiezing 2010 Amsterdam                8\n",
       "Provinciale Statenverkiezing 2023 Limburg             8\n",
       "Provinciale Statenverkiezing 2019 Utrecht             8\n",
       "Gemeenteraadsverkiezing 2022 Utrecht                  8\n",
       "Gemeenteraadsverkiezing 2010 Utrecht                  7\n",
       "Gemeenteraadsverkiezing 2014 Groningen                7\n",
       "Provinciale Statenverkiezing 2019 Limburg             7\n",
       "Gemeenteraadsverkiezing 2018 Utrecht                  7\n",
       "Name: count, dtype: int64"
      ]
     },
     "execution_count": 49,
     "metadata": {},
     "output_type": "execute_result"
    }
   ],
   "source": [
    "csv['Verkiezing'].value_counts().head(50)"
   ]
  },
  {
   "cell_type": "code",
   "execution_count": null,
   "metadata": {},
   "outputs": [],
   "source": []
  }
 ],
 "metadata": {
  "kernelspec": {
   "display_name": "Python 3",
   "language": "python",
   "name": "python3"
  },
  "language_info": {
   "codemirror_mode": {
    "name": "ipython",
    "version": 3
   },
   "file_extension": ".py",
   "mimetype": "text/x-python",
   "name": "python",
   "nbconvert_exporter": "python",
   "pygments_lexer": "ipython3",
   "version": "3.8.10"
  }
 },
 "nbformat": 4,
 "nbformat_minor": 2
}

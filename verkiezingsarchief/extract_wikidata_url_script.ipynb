{
 "cells": [
  {
   "cell_type": "code",
   "execution_count": 33,
   "metadata": {},
   "outputs": [],
   "source": [
    "import pandas as pd"
   ]
  },
  {
   "cell_type": "code",
   "execution_count": 56,
   "metadata": {},
   "outputs": [
    {
     "data": {
      "text/html": [
       "<div>\n",
       "<style scoped>\n",
       "    .dataframe tbody tr th:only-of-type {\n",
       "        vertical-align: middle;\n",
       "    }\n",
       "\n",
       "    .dataframe tbody tr th {\n",
       "        vertical-align: top;\n",
       "    }\n",
       "\n",
       "    .dataframe thead th {\n",
       "        text-align: right;\n",
       "    }\n",
       "</style>\n",
       "<table border=\"1\" class=\"dataframe\">\n",
       "  <thead>\n",
       "    <tr style=\"text-align: right;\">\n",
       "      <th></th>\n",
       "      <th>Unnamed: 0</th>\n",
       "      <th>Lijstnummer</th>\n",
       "      <th>Aanduiding</th>\n",
       "      <th>Positie</th>\n",
       "      <th>Initialen</th>\n",
       "      <th>Roepnaam</th>\n",
       "      <th>Tussenvoegsels</th>\n",
       "      <th>Achternaam</th>\n",
       "      <th>Geslacht</th>\n",
       "      <th>Woonplaats</th>\n",
       "      <th>...</th>\n",
       "      <th>Positie_Bonaire</th>\n",
       "      <th>Stemmen_Saba</th>\n",
       "      <th>Positie_Saba</th>\n",
       "      <th>Stemmen_Sint_Eustatius</th>\n",
       "      <th>Positie_Sint_Eustatius</th>\n",
       "      <th>Stemmen_Buitenland</th>\n",
       "      <th>Positie_Buitenland</th>\n",
       "      <th>Positie.1</th>\n",
       "      <th>Stemmen_Den Helder</th>\n",
       "      <th>Positie_Den Helder</th>\n",
       "    </tr>\n",
       "  </thead>\n",
       "  <tbody>\n",
       "    <tr>\n",
       "      <th>0</th>\n",
       "      <td>277</td>\n",
       "      <td>1.0</td>\n",
       "      <td>Partij van de Arbeid (P.v.d.A.)</td>\n",
       "      <td>5.0</td>\n",
       "      <td>I.L.</td>\n",
       "      <td>Iris</td>\n",
       "      <td>NaN</td>\n",
       "      <td>Vrolijks</td>\n",
       "      <td>v</td>\n",
       "      <td>Maassluis</td>\n",
       "      <td>...</td>\n",
       "      <td>NaN</td>\n",
       "      <td>NaN</td>\n",
       "      <td>NaN</td>\n",
       "      <td>NaN</td>\n",
       "      <td>NaN</td>\n",
       "      <td>NaN</td>\n",
       "      <td>NaN</td>\n",
       "      <td>NaN</td>\n",
       "      <td>NaN</td>\n",
       "      <td>NaN</td>\n",
       "    </tr>\n",
       "    <tr>\n",
       "      <th>1</th>\n",
       "      <td>460</td>\n",
       "      <td>3.0</td>\n",
       "      <td>Partij van de Arbeid (P.v.d.A.)</td>\n",
       "      <td>2.0</td>\n",
       "      <td>I.L.</td>\n",
       "      <td>Iris</td>\n",
       "      <td>NaN</td>\n",
       "      <td>Vrolijks</td>\n",
       "      <td>v</td>\n",
       "      <td>Maassluis</td>\n",
       "      <td>...</td>\n",
       "      <td>NaN</td>\n",
       "      <td>NaN</td>\n",
       "      <td>NaN</td>\n",
       "      <td>NaN</td>\n",
       "      <td>NaN</td>\n",
       "      <td>NaN</td>\n",
       "      <td>NaN</td>\n",
       "      <td>NaN</td>\n",
       "      <td>NaN</td>\n",
       "      <td>NaN</td>\n",
       "    </tr>\n",
       "    <tr>\n",
       "      <th>2</th>\n",
       "      <td>0</td>\n",
       "      <td>1.0</td>\n",
       "      <td>VVD</td>\n",
       "      <td>1.0</td>\n",
       "      <td>R.M.</td>\n",
       "      <td>Rosemarijn</td>\n",
       "      <td>NaN</td>\n",
       "      <td>Dral</td>\n",
       "      <td>v</td>\n",
       "      <td>Oostzaan</td>\n",
       "      <td>...</td>\n",
       "      <td>NaN</td>\n",
       "      <td>NaN</td>\n",
       "      <td>NaN</td>\n",
       "      <td>NaN</td>\n",
       "      <td>NaN</td>\n",
       "      <td>NaN</td>\n",
       "      <td>NaN</td>\n",
       "      <td>NaN</td>\n",
       "      <td>NaN</td>\n",
       "      <td>NaN</td>\n",
       "    </tr>\n",
       "    <tr>\n",
       "      <th>3</th>\n",
       "      <td>79</td>\n",
       "      <td>1.0</td>\n",
       "      <td>VVD</td>\n",
       "      <td>1.0</td>\n",
       "      <td>R.M.</td>\n",
       "      <td>Rosemarijn</td>\n",
       "      <td>NaN</td>\n",
       "      <td>Dral</td>\n",
       "      <td>v</td>\n",
       "      <td>Oostzaan</td>\n",
       "      <td>...</td>\n",
       "      <td>NaN</td>\n",
       "      <td>NaN</td>\n",
       "      <td>NaN</td>\n",
       "      <td>NaN</td>\n",
       "      <td>NaN</td>\n",
       "      <td>NaN</td>\n",
       "      <td>NaN</td>\n",
       "      <td>NaN</td>\n",
       "      <td>NaN</td>\n",
       "      <td>NaN</td>\n",
       "    </tr>\n",
       "    <tr>\n",
       "      <th>4</th>\n",
       "      <td>160</td>\n",
       "      <td>1.0</td>\n",
       "      <td>VVD</td>\n",
       "      <td>1.0</td>\n",
       "      <td>R.M.</td>\n",
       "      <td>Rosemarijn</td>\n",
       "      <td>NaN</td>\n",
       "      <td>Dral</td>\n",
       "      <td>v</td>\n",
       "      <td>Oostzaan</td>\n",
       "      <td>...</td>\n",
       "      <td>NaN</td>\n",
       "      <td>NaN</td>\n",
       "      <td>NaN</td>\n",
       "      <td>NaN</td>\n",
       "      <td>NaN</td>\n",
       "      <td>NaN</td>\n",
       "      <td>NaN</td>\n",
       "      <td>NaN</td>\n",
       "      <td>NaN</td>\n",
       "      <td>NaN</td>\n",
       "    </tr>\n",
       "  </tbody>\n",
       "</table>\n",
       "<p>5 rows × 81 columns</p>\n",
       "</div>"
      ],
      "text/plain": [
       "   Unnamed: 0  Lijstnummer                       Aanduiding  Positie  \\\n",
       "0         277          1.0  Partij van de Arbeid (P.v.d.A.)      5.0   \n",
       "1         460          3.0  Partij van de Arbeid (P.v.d.A.)      2.0   \n",
       "2           0          1.0                              VVD      1.0   \n",
       "3          79          1.0                              VVD      1.0   \n",
       "4         160          1.0                              VVD      1.0   \n",
       "\n",
       "  Initialen    Roepnaam Tussenvoegsels Achternaam Geslacht Woonplaats  ...  \\\n",
       "0      I.L.        Iris            NaN   Vrolijks        v  Maassluis  ...   \n",
       "1      I.L.        Iris            NaN   Vrolijks        v  Maassluis  ...   \n",
       "2      R.M.  Rosemarijn            NaN       Dral        v   Oostzaan  ...   \n",
       "3      R.M.  Rosemarijn            NaN       Dral        v   Oostzaan  ...   \n",
       "4      R.M.  Rosemarijn            NaN       Dral        v   Oostzaan  ...   \n",
       "\n",
       "   Positie_Bonaire Stemmen_Saba Positie_Saba Stemmen_Sint_Eustatius  \\\n",
       "0              NaN          NaN          NaN                    NaN   \n",
       "1              NaN          NaN          NaN                    NaN   \n",
       "2              NaN          NaN          NaN                    NaN   \n",
       "3              NaN          NaN          NaN                    NaN   \n",
       "4              NaN          NaN          NaN                    NaN   \n",
       "\n",
       "   Positie_Sint_Eustatius  Stemmen_Buitenland  Positie_Buitenland  Positie.1  \\\n",
       "0                     NaN                 NaN                 NaN        NaN   \n",
       "1                     NaN                 NaN                 NaN        NaN   \n",
       "2                     NaN                 NaN                 NaN        NaN   \n",
       "3                     NaN                 NaN                 NaN        NaN   \n",
       "4                     NaN                 NaN                 NaN        NaN   \n",
       "\n",
       "   Stemmen_Den Helder  Positie_Den Helder  \n",
       "0                 NaN                 NaN  \n",
       "1                 NaN                 NaN  \n",
       "2                 NaN                 NaN  \n",
       "3                 NaN                 NaN  \n",
       "4                 NaN                 NaN  \n",
       "\n",
       "[5 rows x 81 columns]"
      ]
     },
     "execution_count": 56,
     "metadata": {},
     "output_type": "execute_result"
    }
   ],
   "source": [
    "csv = pd.read_csv('TK2023Kandidaten.csv')\n",
    "csv.head()"
   ]
  },
  {
   "cell_type": "code",
   "execution_count": 70,
   "metadata": {},
   "outputs": [
    {
     "name": "stdout",
     "output_type": "stream",
     "text": [
      "<class 'pandas.core.frame.DataFrame'>\n",
      "RangeIndex: 1128 entries, 0 to 1127\n",
      "Data columns (total 9 columns):\n",
      " #   Column        Non-Null Count  Dtype \n",
      "---  ------        --------------  ----- \n",
      " 0   iri           1128 non-null   object\n",
      " 1   id            1128 non-null   object\n",
      " 2   naam          1128 non-null   object\n",
      " 3   voornaam      1128 non-null   object\n",
      " 4   achternaam    1128 non-null   object\n",
      " 5   voorletters   1128 non-null   object\n",
      " 6   geslacht      627 non-null    object\n",
      " 7   verkiezingen  1128 non-null   object\n",
      " 8   urls          486 non-null    object\n",
      "dtypes: object(9)\n",
      "memory usage: 79.4+ KB\n"
     ]
    }
   ],
   "source": [
    "json = pd.read_json('kandidaten.json')\n",
    "json.info()"
   ]
  },
  {
   "cell_type": "code",
   "execution_count": 62,
   "metadata": {},
   "outputs": [
    {
     "data": {
      "text/plain": [
       "0         Iris I.L. Vrolijks\n",
       "1         Iris I.L. Vrolijks\n",
       "2       Rosemarijn R.M. Dral\n",
       "3       Rosemarijn R.M. Dral\n",
       "4       Rosemarijn R.M. Dral\n",
       "                ...         \n",
       "2682       Derk D.G. Boswijk\n",
       "2683              C. Stoffer\n",
       "2684        Chris C. Stoffer\n",
       "2685        Chris C. Stoffer\n",
       "2686        Chris C. Stoffer\n",
       "Name: id, Length: 2687, dtype: object"
      ]
     },
     "execution_count": 62,
     "metadata": {},
     "output_type": "execute_result"
    }
   ],
   "source": [
    "csv = csv.fillna('')\n",
    "csv['id'] = csv['Roepnaam'].str.cat(csv['Initialen'], sep=' ').str.cat(csv['Tussenvoegsels'], sep=' ').str.cat(csv['Achternaam'], sep=' ')\n",
    "csv['id'] = csv['id'].str.replace('  ', ' ')\n",
    "csv['id']"
   ]
  },
  {
   "cell_type": "code",
   "execution_count": 63,
   "metadata": {},
   "outputs": [
    {
     "data": {
      "text/plain": [
       "960"
      ]
     },
     "execution_count": 63,
     "metadata": {},
     "output_type": "execute_result"
    }
   ],
   "source": [
    "# Merge the two dataframes on the 'id' column using an inner join to find matches\n",
    "matched = pd.merge(csv, json, on='id', how='inner')\n",
    "unique_csv = csv['id'].unique()\n",
    "unique_json = json['id'].unique()\n",
    "\n",
    "# Get the unique matching 'id's\n",
    "unique_matches = matched['id'].unique()\n",
    "len(unique_matches)"
   ]
  },
  {
   "cell_type": "code",
   "execution_count": 64,
   "metadata": {},
   "outputs": [
    {
     "data": {
      "text/plain": [
       "1121"
      ]
     },
     "execution_count": 64,
     "metadata": {},
     "output_type": "execute_result"
    }
   ],
   "source": [
    "len(unique_csv)"
   ]
  },
  {
   "cell_type": "code",
   "execution_count": 65,
   "metadata": {},
   "outputs": [
    {
     "data": {
      "text/plain": [
       "1128"
      ]
     },
     "execution_count": 65,
     "metadata": {},
     "output_type": "execute_result"
    }
   ],
   "source": [
    "len(unique_json)"
   ]
  },
  {
   "cell_type": "code",
   "execution_count": 74,
   "metadata": {},
   "outputs": [],
   "source": [
    "merged_data = pd.merge(json, csv[['id', 'Qid']], on='id', how='left')\n",
    "\n",
    "# Now, 'merged_data' DataFrame has a new column 'Qid' from 'csv' DataFrame.\n",
    "# If you want to replace the 'json' DataFrame with this merged data:\n",
    "json = merged_data"
   ]
  },
  {
   "cell_type": "code",
   "execution_count": 75,
   "metadata": {},
   "outputs": [
    {
     "data": {
      "text/html": [
       "<div>\n",
       "<style scoped>\n",
       "    .dataframe tbody tr th:only-of-type {\n",
       "        vertical-align: middle;\n",
       "    }\n",
       "\n",
       "    .dataframe tbody tr th {\n",
       "        vertical-align: top;\n",
       "    }\n",
       "\n",
       "    .dataframe thead th {\n",
       "        text-align: right;\n",
       "    }\n",
       "</style>\n",
       "<table border=\"1\" class=\"dataframe\">\n",
       "  <thead>\n",
       "    <tr style=\"text-align: right;\">\n",
       "      <th></th>\n",
       "      <th>id</th>\n",
       "      <th>Qid</th>\n",
       "    </tr>\n",
       "  </thead>\n",
       "  <tbody>\n",
       "    <tr>\n",
       "      <th>0</th>\n",
       "      <td>Dilan D. Yeşilgöz</td>\n",
       "      <td>Q28861002</td>\n",
       "    </tr>\n",
       "    <tr>\n",
       "      <th>1</th>\n",
       "      <td>Sophie S.T.M. Hermans</td>\n",
       "      <td>Q28860996</td>\n",
       "    </tr>\n",
       "    <tr>\n",
       "      <th>2</th>\n",
       "      <td>Sophie S.T.M. Hermans</td>\n",
       "      <td>Q28860996</td>\n",
       "    </tr>\n",
       "    <tr>\n",
       "      <th>3</th>\n",
       "      <td>Sophie S.T.M. Hermans</td>\n",
       "      <td>Q28860996</td>\n",
       "    </tr>\n",
       "    <tr>\n",
       "      <th>4</th>\n",
       "      <td>Bente B. Becker</td>\n",
       "      <td>Q28860992</td>\n",
       "    </tr>\n",
       "    <tr>\n",
       "      <th>...</th>\n",
       "      <td>...</td>\n",
       "      <td>...</td>\n",
       "    </tr>\n",
       "    <tr>\n",
       "      <th>2509</th>\n",
       "      <td>W.A.A.O. Muurmans</td>\n",
       "      <td>NaN</td>\n",
       "    </tr>\n",
       "    <tr>\n",
       "      <th>2510</th>\n",
       "      <td>L.C. Heuvelmans</td>\n",
       "      <td>NaN</td>\n",
       "    </tr>\n",
       "    <tr>\n",
       "      <th>2511</th>\n",
       "      <td>N.P.M. Seldenthuis-Jetten</td>\n",
       "      <td>NaN</td>\n",
       "    </tr>\n",
       "    <tr>\n",
       "      <th>2512</th>\n",
       "      <td>Werner W.A.G.O. Eussen</td>\n",
       "      <td>Q123176393</td>\n",
       "    </tr>\n",
       "    <tr>\n",
       "      <th>2513</th>\n",
       "      <td>John J. Huizing</td>\n",
       "      <td>Q123176394</td>\n",
       "    </tr>\n",
       "  </tbody>\n",
       "</table>\n",
       "<p>2514 rows × 2 columns</p>\n",
       "</div>"
      ],
      "text/plain": [
       "                             id         Qid\n",
       "0             Dilan D. Yeşilgöz   Q28861002\n",
       "1         Sophie S.T.M. Hermans   Q28860996\n",
       "2         Sophie S.T.M. Hermans   Q28860996\n",
       "3         Sophie S.T.M. Hermans   Q28860996\n",
       "4               Bente B. Becker   Q28860992\n",
       "...                         ...         ...\n",
       "2509          W.A.A.O. Muurmans         NaN\n",
       "2510            L.C. Heuvelmans         NaN\n",
       "2511  N.P.M. Seldenthuis-Jetten         NaN\n",
       "2512     Werner W.A.G.O. Eussen  Q123176393\n",
       "2513            John J. Huizing  Q123176394\n",
       "\n",
       "[2514 rows x 2 columns]"
      ]
     },
     "execution_count": 75,
     "metadata": {},
     "output_type": "execute_result"
    }
   ],
   "source": [
    "json[['id', 'Qid']]"
   ]
  },
  {
   "cell_type": "code",
   "execution_count": 76,
   "metadata": {},
   "outputs": [],
   "source": [
    "json['Qid'] = 'http://www.wikidata.org/entity/' + json['Qid'].astype(str)"
   ]
  },
  {
   "cell_type": "code",
   "execution_count": 77,
   "metadata": {},
   "outputs": [
    {
     "name": "stdout",
     "output_type": "stream",
     "text": [
      "<class 'pandas.core.frame.DataFrame'>\n",
      "RangeIndex: 2514 entries, 0 to 2513\n",
      "Data columns (total 10 columns):\n",
      " #   Column        Non-Null Count  Dtype \n",
      "---  ------        --------------  ----- \n",
      " 0   iri           2514 non-null   object\n",
      " 1   id            2514 non-null   object\n",
      " 2   naam          2514 non-null   object\n",
      " 3   voornaam      2514 non-null   object\n",
      " 4   achternaam    2514 non-null   object\n",
      " 5   voorletters   2514 non-null   object\n",
      " 6   geslacht      1515 non-null   object\n",
      " 7   verkiezingen  2514 non-null   object\n",
      " 8   urls          1188 non-null   object\n",
      " 9   Qid           2514 non-null   object\n",
      "dtypes: object(10)\n",
      "memory usage: 196.5+ KB\n"
     ]
    }
   ],
   "source": [
    "json.info()"
   ]
  },
  {
   "cell_type": "code",
   "execution_count": 79,
   "metadata": {},
   "outputs": [
    {
     "data": {
      "text/html": [
       "<div>\n",
       "<style scoped>\n",
       "    .dataframe tbody tr th:only-of-type {\n",
       "        vertical-align: middle;\n",
       "    }\n",
       "\n",
       "    .dataframe tbody tr th {\n",
       "        vertical-align: top;\n",
       "    }\n",
       "\n",
       "    .dataframe thead th {\n",
       "        text-align: right;\n",
       "    }\n",
       "</style>\n",
       "<table border=\"1\" class=\"dataframe\">\n",
       "  <thead>\n",
       "    <tr style=\"text-align: right;\">\n",
       "      <th></th>\n",
       "      <th>id</th>\n",
       "      <th>Qid</th>\n",
       "    </tr>\n",
       "  </thead>\n",
       "  <tbody>\n",
       "    <tr>\n",
       "      <th>0</th>\n",
       "      <td>Dilan D. Yeşilgöz</td>\n",
       "      <td>http://www.wikidata.org/entity/Q28861002</td>\n",
       "    </tr>\n",
       "    <tr>\n",
       "      <th>1</th>\n",
       "      <td>Sophie S.T.M. Hermans</td>\n",
       "      <td>http://www.wikidata.org/entity/Q28860996</td>\n",
       "    </tr>\n",
       "    <tr>\n",
       "      <th>2</th>\n",
       "      <td>Sophie S.T.M. Hermans</td>\n",
       "      <td>http://www.wikidata.org/entity/Q28860996</td>\n",
       "    </tr>\n",
       "    <tr>\n",
       "      <th>3</th>\n",
       "      <td>Sophie S.T.M. Hermans</td>\n",
       "      <td>http://www.wikidata.org/entity/Q28860996</td>\n",
       "    </tr>\n",
       "    <tr>\n",
       "      <th>4</th>\n",
       "      <td>Bente B. Becker</td>\n",
       "      <td>http://www.wikidata.org/entity/Q28860992</td>\n",
       "    </tr>\n",
       "    <tr>\n",
       "      <th>...</th>\n",
       "      <td>...</td>\n",
       "      <td>...</td>\n",
       "    </tr>\n",
       "    <tr>\n",
       "      <th>2509</th>\n",
       "      <td>W.A.A.O. Muurmans</td>\n",
       "      <td>http://www.wikidata.org/entity/nan</td>\n",
       "    </tr>\n",
       "    <tr>\n",
       "      <th>2510</th>\n",
       "      <td>L.C. Heuvelmans</td>\n",
       "      <td>http://www.wikidata.org/entity/nan</td>\n",
       "    </tr>\n",
       "    <tr>\n",
       "      <th>2511</th>\n",
       "      <td>N.P.M. Seldenthuis-Jetten</td>\n",
       "      <td>http://www.wikidata.org/entity/nan</td>\n",
       "    </tr>\n",
       "    <tr>\n",
       "      <th>2512</th>\n",
       "      <td>Werner W.A.G.O. Eussen</td>\n",
       "      <td>http://www.wikidata.org/entity/Q123176393</td>\n",
       "    </tr>\n",
       "    <tr>\n",
       "      <th>2513</th>\n",
       "      <td>John J. Huizing</td>\n",
       "      <td>http://www.wikidata.org/entity/Q123176394</td>\n",
       "    </tr>\n",
       "  </tbody>\n",
       "</table>\n",
       "<p>2514 rows × 2 columns</p>\n",
       "</div>"
      ],
      "text/plain": [
       "                             id                                        Qid\n",
       "0             Dilan D. Yeşilgöz   http://www.wikidata.org/entity/Q28861002\n",
       "1         Sophie S.T.M. Hermans   http://www.wikidata.org/entity/Q28860996\n",
       "2         Sophie S.T.M. Hermans   http://www.wikidata.org/entity/Q28860996\n",
       "3         Sophie S.T.M. Hermans   http://www.wikidata.org/entity/Q28860996\n",
       "4               Bente B. Becker   http://www.wikidata.org/entity/Q28860992\n",
       "...                         ...                                        ...\n",
       "2509          W.A.A.O. Muurmans         http://www.wikidata.org/entity/nan\n",
       "2510            L.C. Heuvelmans         http://www.wikidata.org/entity/nan\n",
       "2511  N.P.M. Seldenthuis-Jetten         http://www.wikidata.org/entity/nan\n",
       "2512     Werner W.A.G.O. Eussen  http://www.wikidata.org/entity/Q123176393\n",
       "2513            John J. Huizing  http://www.wikidata.org/entity/Q123176394\n",
       "\n",
       "[2514 rows x 2 columns]"
      ]
     },
     "execution_count": 79,
     "metadata": {},
     "output_type": "execute_result"
    }
   ],
   "source": [
    "json[['id','Qid']]"
   ]
  },
  {
   "cell_type": "code",
   "execution_count": 80,
   "metadata": {},
   "outputs": [
    {
     "name": "stdout",
     "output_type": "stream",
     "text": [
      "<class 'pandas.core.frame.DataFrame'>\n",
      "RangeIndex: 2687 entries, 0 to 2686\n",
      "Data columns (total 82 columns):\n",
      " #   Column                       Non-Null Count  Dtype \n",
      "---  ------                       --------------  ----- \n",
      " 0   Unnamed: 0                   2687 non-null   int64 \n",
      " 1   Lijstnummer                  2687 non-null   object\n",
      " 2   Aanduiding                   2687 non-null   object\n",
      " 3   Positie                      2687 non-null   object\n",
      " 4   Initialen                    2687 non-null   object\n",
      " 5   Roepnaam                     2687 non-null   object\n",
      " 6   Tussenvoegsels               2687 non-null   object\n",
      " 7   Achternaam                   2687 non-null   object\n",
      " 8   Geslacht                     2687 non-null   object\n",
      " 9   Woonplaats                   2687 non-null   object\n",
      " 10  Stemmen                      2687 non-null   object\n",
      " 11  Verkiezing                   2687 non-null   object\n",
      " 12  Party_WD_id                  2687 non-null   object\n",
      " 13  Qid                          2687 non-null   object\n",
      " 14  Positie_Groningen            2687 non-null   object\n",
      " 15  Positie_Fryslan              2687 non-null   object\n",
      " 16  Positie_Drenthe              2687 non-null   object\n",
      " 17  Positie_Overijssel           2687 non-null   object\n",
      " 18  Positie_Flevoland            2687 non-null   object\n",
      " 19  Positie_Nijmegen             2687 non-null   object\n",
      " 20  Positie_Arnhem               2687 non-null   object\n",
      " 21  Positie_Utrecht              2687 non-null   object\n",
      " 22  Positie_Amsterdam            2687 non-null   object\n",
      " 23  Positie_Haarlem              2687 non-null   object\n",
      " 24  Positie_Den_Helder           2687 non-null   object\n",
      " 25  Positie_Den_Haag             2687 non-null   object\n",
      " 26  Positie_Rotterdam            2687 non-null   object\n",
      " 27  Positie_Dordrecht            2687 non-null   object\n",
      " 28  Positie_Leiden               2687 non-null   object\n",
      " 29  Positie_Zeeland              2687 non-null   object\n",
      " 30  Positie_Tilburg              2687 non-null   object\n",
      " 31  Positie_Den_Bosch            2687 non-null   object\n",
      " 32  Positie_Limburg              2687 non-null   object\n",
      " 33  Positie_Caribisch_Nederland  2687 non-null   object\n",
      " 34  Stemmen_Groningen            2687 non-null   object\n",
      " 35  Stemmen_Fryslan              2687 non-null   object\n",
      " 36  Stemmen_Drenthe              2687 non-null   object\n",
      " 37  Stemmen_Overijssel           2687 non-null   object\n",
      " 38  Stemmen_Flevoland            2687 non-null   object\n",
      " 39  Stemmen_Nijmegen             2687 non-null   object\n",
      " 40  Stemmen_Arnhem               2687 non-null   object\n",
      " 41  Stemmen_Utrecht              2687 non-null   object\n",
      " 42  Stemmen_Amsterdam            2687 non-null   object\n",
      " 43  Stemmen_Haarlem              2687 non-null   object\n",
      " 44  Stemmen_Den_Helder           2687 non-null   object\n",
      " 45  Stemmen_Den_Haag             2687 non-null   object\n",
      " 46  Stemmen_Rotterdam            2687 non-null   object\n",
      " 47  Stemmen_Dordrecht            2687 non-null   object\n",
      " 48  Stemmen_Leiden               2687 non-null   object\n",
      " 49  Stemmen_Zeeland              2687 non-null   object\n",
      " 50  Stemmen_Tilburg              2687 non-null   object\n",
      " 51  Stemmen_Den_Bosch            2687 non-null   object\n",
      " 52  Stemmen_Limburg              2687 non-null   object\n",
      " 53  Stemmen_Caribisch_Nederland  2687 non-null   object\n",
      " 54  Stemmen_Maastricht           2687 non-null   object\n",
      " 55  Positie_Maastricht           2687 non-null   object\n",
      " 56  Stemmen_Venlo                2687 non-null   object\n",
      " 57  Positie_Venlo                2687 non-null   object\n",
      " 58  Stemmen_s-Gravenhage         2687 non-null   object\n",
      " 59  Positie_s-Gravenhage         2687 non-null   object\n",
      " 60  Stemmen_s-Hertogenbosch      2687 non-null   object\n",
      " 61  Positie_s-Hertogenbosch      2687 non-null   object\n",
      " 62  Stemmen_Gelderland           2687 non-null   object\n",
      " 63  Positie_Gelderland           2687 non-null   object\n",
      " 64  Stemmen_Noord_Holland        2687 non-null   object\n",
      " 65  Positie_Noord_Holland        2687 non-null   object\n",
      " 66  Stemmen_Zuid_Holland         2687 non-null   object\n",
      " 67  Positie_Zuid_Holland         2687 non-null   object\n",
      " 68  Stemmen_Noord_Brabant        2687 non-null   object\n",
      " 69  Positie_Noord_Brabant        2687 non-null   object\n",
      " 70  Stemmen_Bonaire              2687 non-null   object\n",
      " 71  Positie_Bonaire              2687 non-null   object\n",
      " 72  Stemmen_Saba                 2687 non-null   object\n",
      " 73  Positie_Saba                 2687 non-null   object\n",
      " 74  Stemmen_Sint_Eustatius       2687 non-null   object\n",
      " 75  Positie_Sint_Eustatius       2687 non-null   object\n",
      " 76  Stemmen_Buitenland           2687 non-null   object\n",
      " 77  Positie_Buitenland           2687 non-null   object\n",
      " 78  Positie.1                    2687 non-null   object\n",
      " 79  Stemmen_Den Helder           2687 non-null   object\n",
      " 80  Positie_Den Helder           2687 non-null   object\n",
      " 81  id                           2687 non-null   object\n",
      "dtypes: int64(1), object(81)\n",
      "memory usage: 1.7+ MB\n"
     ]
    }
   ],
   "source": [
    "csv.info()"
   ]
  },
  {
   "cell_type": "code",
   "execution_count": 86,
   "metadata": {},
   "outputs": [
    {
     "data": {
      "text/plain": [
       "{'partijwebsite': 'https://www.vvd.nl/profielen/dilan-yesilgoz-zegerius/',\n",
       " 'wikidata': 'http://www.wikidata.org/entity/Q28861002'}"
      ]
     },
     "execution_count": 86,
     "metadata": {},
     "output_type": "execute_result"
    }
   ],
   "source": [
    "json['urls'][0]"
   ]
  },
  {
   "cell_type": "code",
   "execution_count": 85,
   "metadata": {},
   "outputs": [],
   "source": [
    "# Define a function to update the dictionary in each row of the 'urls' column\n",
    "def update_urls(row):\n",
    "    # Check if the value in the 'urls' column is a dictionary\n",
    "    if isinstance(row['urls'], dict):\n",
    "        # Copy the existing dictionary to avoid modifying it in-place\n",
    "        urls_dict = dict(row['urls'])\n",
    "    else:\n",
    "        # If the value is not a dictionary, initialize an empty dictionary\n",
    "        urls_dict = {}\n",
    "    # Add the 'wikidata' field to the dictionary\n",
    "    urls_dict['wikidata'] = str(row['Qid'])\n",
    "    return urls_dict\n",
    "\n",
    "# Use the apply() method along with the custom function to update the 'urls' column\n",
    "json['urls'] = json.apply(update_urls, axis=1)\n"
   ]
  },
  {
   "cell_type": "code",
   "execution_count": 87,
   "metadata": {},
   "outputs": [],
   "source": [
    "json.drop(columns=['Qid'], inplace=True)"
   ]
  },
  {
   "cell_type": "code",
   "execution_count": 88,
   "metadata": {},
   "outputs": [
    {
     "name": "stdout",
     "output_type": "stream",
     "text": [
      "<class 'pandas.core.frame.DataFrame'>\n",
      "RangeIndex: 2514 entries, 0 to 2513\n",
      "Data columns (total 9 columns):\n",
      " #   Column        Non-Null Count  Dtype \n",
      "---  ------        --------------  ----- \n",
      " 0   iri           2514 non-null   object\n",
      " 1   id            2514 non-null   object\n",
      " 2   naam          2514 non-null   object\n",
      " 3   voornaam      2514 non-null   object\n",
      " 4   achternaam    2514 non-null   object\n",
      " 5   voorletters   2514 non-null   object\n",
      " 6   geslacht      1515 non-null   object\n",
      " 7   verkiezingen  2514 non-null   object\n",
      " 8   urls          2514 non-null   object\n",
      "dtypes: object(9)\n",
      "memory usage: 176.9+ KB\n"
     ]
    }
   ],
   "source": [
    "json.info()"
   ]
  },
  {
   "cell_type": "code",
   "execution_count": 90,
   "metadata": {},
   "outputs": [],
   "source": [
    "json.to_json('kandidaten.json', orient='records')"
   ]
  },
  {
   "cell_type": "code",
   "execution_count": null,
   "metadata": {},
   "outputs": [],
   "source": []
  }
 ],
 "metadata": {
  "kernelspec": {
   "display_name": "Python 3",
   "language": "python",
   "name": "python3"
  },
  "language_info": {
   "codemirror_mode": {
    "name": "ipython",
    "version": 3
   },
   "file_extension": ".py",
   "mimetype": "text/x-python",
   "name": "python",
   "nbconvert_exporter": "python",
   "pygments_lexer": "ipython3",
   "version": "3.8.10"
  }
 },
 "nbformat": 4,
 "nbformat_minor": 2
}
